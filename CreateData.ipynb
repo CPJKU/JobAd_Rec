{
 "cells": [
  {
   "attachments": {},
   "cell_type": "markdown",
   "metadata": {},
   "source": [
    "Create matching"
   ]
  },
  {
   "cell_type": "code",
   "execution_count": 19,
   "metadata": {},
   "outputs": [
    {
     "name": "stdout",
     "output_type": "stream",
     "text": [
      "361634\n"
     ]
    }
   ],
   "source": [
    "import pickle\n",
    "from sklearn.utils import shuffle\n",
    "import pandas as pd\n",
    "\n",
    "with open( '/share/hel/datasets/fs/nlp/text_classification_bias/bios/BIOS.pkl', 'rb') as file:\n",
    "    bios_dicts = pickle.load(file)\n",
    "df = pd.DataFrame(bios_dicts)\n",
    "\n",
    "df.drop(['path','name','start_pos','URI','title'], axis=1, inplace=True)\n",
    "df['raw_title'] = df['raw_title'].map(lambda x: x.lower())\n",
    "raw_bio =[]\n",
    "bio = []\n",
    "for i in range(len(df)):\n",
    "    raw_bio.append(df['raw'][i].replace(df['raw_title'][i],'_'))\n",
    "    bio.append(df['bio'][i].replace(df['raw_title'][i],'_'))\n",
    "df['raw'] = raw_bio\n",
    "df['bio'] = bio\n",
    "print(len(df))\n"
   ]
  },
  {
   "cell_type": "code",
   "execution_count": 20,
   "metadata": {},
   "outputs": [
    {
     "name": "stdout",
     "output_type": "stream",
     "text": [
      "903011\n",
      "2109\n"
     ]
    }
   ],
   "source": [
    "import pandas as pd\n",
    "import glob\n",
    "\n",
    "path = '/share/hel/datasets/jobiqo/talent.com/UK/'\n",
    "all_files = glob.glob(path + \"/*.csv\")\n",
    "\n",
    "li = []\n",
    "\n",
    "for filename in all_files:\n",
    "    frame = pd.read_csv(filename, index_col=None, header=0)\n",
    "    li.append(frame)\n",
    "\n",
    "uk_data = pd.concat(li, axis=0, ignore_index=True)\n",
    "uk_data.drop(['company','city','state','country','date','time','jobid'], axis=1, inplace=True)\n",
    "uk_data['title'] = uk_data['title'].map(lambda x: x.lower())\n",
    "print(len(uk_data))\n",
    "uk_data.drop_duplicates(subset=\"description\",  keep=False, inplace=True)\n",
    "new_uk_data = uk_data[uk_data['title'].isin(df.raw_title.unique())]\n",
    "print(len(new_uk_data))"
   ]
  },
  {
   "cell_type": "code",
   "execution_count": 21,
   "metadata": {},
   "outputs": [
    {
     "name": "stderr",
     "output_type": "stream",
     "text": [
      "/tmp/deepak/ipykernel_59637/462123052.py:1: SettingWithCopyWarning: \n",
      "A value is trying to be set on a copy of a slice from a DataFrame.\n",
      "Try using .loc[row_indexer,col_indexer] = value instead\n",
      "\n",
      "See the caveats in the documentation: https://pandas.pydata.org/pandas-docs/stable/user_guide/indexing.html#returning-a-view-versus-a-copy\n",
      "  new_uk_data['description'] = new_uk_data['description'].replace('\\n',' ', regex=True)\n"
     ]
    }
   ],
   "source": [
    "new_uk_data['description'] = new_uk_data['description'].replace('\\n',' ', regex=True)"
   ]
  },
  {
   "cell_type": "code",
   "execution_count": 22,
   "metadata": {},
   "outputs": [
    {
     "data": {
      "text/plain": [
       "software engineer           522\n",
       "senior software engineer    405\n",
       "dentist                     279\n",
       "accountant                  162\n",
       "teacher                     152\n",
       "architect                   146\n",
       "nurse                       141\n",
       "paralegal                    96\n",
       "painter                      70\n",
       "psychologist                 33\n",
       "personal trainer             23\n",
       "dietitian                    22\n",
       "interior designer            18\n",
       "photographer                 16\n",
       "psychotherapist               4\n",
       "journalist                    4\n",
       "assistant professor           4\n",
       "attorney                      3\n",
       "associate professor           3\n",
       "yoga instructor               2\n",
       "model                         1\n",
       "surgeon                       1\n",
       "physician                     1\n",
       "nutritionist                  1\n",
       "Name: title, dtype: int64"
      ]
     },
     "execution_count": 22,
     "metadata": {},
     "output_type": "execute_result"
    }
   ],
   "source": [
    "new_uk_data['title'].value_counts()"
   ]
  },
  {
   "cell_type": "code",
   "execution_count": 23,
   "metadata": {},
   "outputs": [],
   "source": [
    "new_uk_data = new_uk_data.drop(new_uk_data[new_uk_data['title']=='physician'].index)\n",
    "new_uk_data = new_uk_data.drop(new_uk_data[new_uk_data['title']=='nutritionist'].index)\n",
    "new_uk_data = new_uk_data.drop(new_uk_data[new_uk_data['title']=='surgeon'].index)\n",
    "new_uk_data = new_uk_data.drop(new_uk_data[new_uk_data['title']=='model'].index)\n",
    "new_uk_data = new_uk_data.drop(new_uk_data[new_uk_data['title']=='yoga instructor'].index)\n",
    "new_uk_data = new_uk_data.drop(new_uk_data[new_uk_data['title']=='attorney'].index)\n",
    "new_uk_data = new_uk_data.drop(new_uk_data[new_uk_data['title']=='associate professor'].index)\n",
    "new_uk_data = new_uk_data.drop(new_uk_data[new_uk_data['title']=='journalist'].index)\n",
    "new_uk_data = new_uk_data.drop(new_uk_data[new_uk_data['title']=='assistant professor'].index)\n",
    "new_uk_data = new_uk_data.drop(new_uk_data[new_uk_data['title']=='psychotherapist'].index)"
   ]
  },
  {
   "cell_type": "code",
   "execution_count": 24,
   "metadata": {},
   "outputs": [
    {
     "data": {
      "text/plain": [
       "software engineer           522\n",
       "senior software engineer    405\n",
       "dentist                     279\n",
       "accountant                  162\n",
       "teacher                     152\n",
       "architect                   146\n",
       "nurse                       141\n",
       "paralegal                    96\n",
       "painter                      70\n",
       "psychologist                 33\n",
       "personal trainer             23\n",
       "dietitian                    22\n",
       "interior designer            18\n",
       "photographer                 16\n",
       "Name: title, dtype: int64"
      ]
     },
     "execution_count": 24,
     "metadata": {},
     "output_type": "execute_result"
    }
   ],
   "source": [
    "new_uk_data['title'].value_counts()"
   ]
  },
  {
   "cell_type": "code",
   "execution_count": 25,
   "metadata": {},
   "outputs": [
    {
     "name": "stdout",
     "output_type": "stream",
     "text": [
      "320038\n"
     ]
    }
   ],
   "source": [
    "new_df = df[df['raw_title'].isin(uk_data.title.unique())]\n",
    "print(len(new_df))"
   ]
  },
  {
   "cell_type": "code",
   "execution_count": 26,
   "metadata": {},
   "outputs": [],
   "source": [
    "import pickle\n",
    "\n",
    "with open('/share/hel/datasets/jobiqo/talent.com/JobRec/bios.pkl', 'wb') as f:\n",
    "    pickle.dump(new_df, f)\n",
    "\n",
    "with open('/share/hel/datasets/jobiqo/talent.com/JobRec/uk_jobs.pkl', 'wb') as f:\n",
    "    pickle.dump(new_uk_data, f)"
   ]
  },
  {
   "cell_type": "markdown",
   "metadata": {},
   "source": [
    "BIOS counterfactual and cleaning"
   ]
  },
  {
   "cell_type": "code",
   "execution_count": 17,
   "metadata": {},
   "outputs": [
    {
     "name": "stderr",
     "output_type": "stream",
     "text": [
      "100%|██████████| 320038/320038 [03:29<00:00, 1528.76it/s]\n"
     ]
    },
    {
     "name": "stdout",
     "output_type": "stream",
     "text": [
      "assistant professor\n",
      "journalist\n",
      "architect\n",
      "photographer\n",
      "psychologist\n",
      "teacher\n",
      "nurse\n",
      "associate professor\n",
      "attorney\n",
      "software engineer\n",
      "painter\n",
      "physician\n",
      "personal trainer\n",
      "surgeon\n",
      "dietitian\n",
      "dentist\n",
      "model\n",
      "psychotherapist\n",
      "yoga instructor\n",
      "interior designer\n",
      "senior software engineer\n",
      "accountant\n",
      "nutritionist\n",
      "paralegal\n"
     ]
    }
   ],
   "source": [
    "import pickle\n",
    "import pandas as pd\n",
    "\n",
    "with open( '/share/hel/datasets/jobiqo/talent.com/JobRec/bios.pkl', 'rb') as file:\n",
    "    dicts = pickle.load(file)\n",
    "bios = pd.DataFrame(dicts)\n",
    "#bios = pd.DataFrame(dicts).reset_index()\n",
    "#bios = bios.drop('index', axis=1)\n",
    "\n",
    "import pickle\n",
    "import pandas as pd\n",
    "\n",
    "with open( '/share/hel/datasets/fs/nlp/text_classification_bias/bios/BIOS.pkl', 'rb') as file:\n",
    "    dicts = pickle.load(file)\n",
    "original_bios = pd.DataFrame(dicts)\n",
    "\n",
    "import regex as re\n",
    "from tqdm.autonotebook import tqdm\n",
    "\n",
    "male_words = ['mr','his','he','him','himself']\n",
    "female_words = ['mrs','hers','she','her','herself']\n",
    "\n",
    "bio_list = []\n",
    "counterfactual_list = []\n",
    "\n",
    "for id in tqdm(bios.index):\n",
    "    bio_string = bios['raw'][id]\n",
    "    name_list = list(original_bios['name'][id])\n",
    "    if len(name_list[1])==1:\n",
    "        name_list[1] = name_list[1]+'.'\n",
    "    if '' in name_list:\n",
    "        name_list.remove('')\n",
    "\n",
    "\n",
    "    bio_string = re.sub(' '.join(name_list), 'NAME',bio_string,flags=re.I)\n",
    "    for name in name_list:\n",
    "            bio_string = re.sub(r'\\s'+name+r'\\s', ' NAME ',bio_string,flags=re.I)\n",
    "    if bios['gender'][id]=='M':\n",
    "        bio_string = re.sub('NAME', 'Bob',bio_string)\n",
    "        bio_list.append(bio_string)\n",
    "        for i in range(len(male_words)):\n",
    "            bio_string = re.sub(r'\\s'+male_words[i]+r'\\s', ' '+female_words[i]+' ',bio_string,flags=re.I)\n",
    "\n",
    "        bio_string = re.sub('Bob', 'Alice',bio_string)\n",
    "    elif bios['gender'][id]=='F':\n",
    "        bio_string = re.sub('NAME', 'Alice',bio_string)\n",
    "        bio_list.append(bio_string)\n",
    "        for i in range(len(male_words)):\n",
    "            bio_string = re.sub(r'\\s'+female_words[i]+r'\\s',' '+ male_words[i]+' ',bio_string,flags=re.I)\n",
    "\n",
    "        bio_string = re.sub('Alice', 'Bob',bio_string)\n",
    "    counterfactual_list.append(bio_string)\n",
    "\n",
    "bios['bio'] = bio_list\n",
    "bios['counter_bio'] = counterfactual_list\n",
    "\n",
    "\n",
    "bios = bios.reset_index()\n",
    "bios = bios.drop('index', axis=1)\n",
    "\n",
    "i=0\n",
    "for job in bios['raw_title'].unique():\n",
    "    print(job)\n",
    "    if i==0:\n",
    "        new_bios = pd.concat([bios[(bios['gender']=='F') & (bios['raw_title']==job)].sample(n=50,random_state=1),bios[(bios['gender']=='M') & (bios['raw_title']==job)].sample(n=50,random_state=1)])\n",
    "    else:\n",
    "        new_bios = pd.concat([new_bios, pd.concat([bios[(bios['gender']=='F') & (bios['raw_title']==job)].sample(n=50,random_state=1),bios[(bios['gender']=='M') & (bios['raw_title']==job)].sample(n=50,random_state=1)])])\n",
    "    i=i+1\n",
    "\n",
    "new_bios = new_bios.reset_index()\n",
    "new_bios = new_bios.drop('index', axis=1)\n",
    "\n",
    "anonymous_bio = []\n",
    "anonymous_counter_bio = []\n",
    "for i in range(2400):\n",
    "    anonymous_bio.append(re.sub(new_bios['raw_title'][i], '_', new_bios['bio'][i],flags=re.I))\n",
    "    anonymous_counter_bio.append(re.sub(new_bios['raw_title'][i], '_', new_bios['counter_bio'][i],flags=re.I))\n",
    "\n",
    "new_bios['bio'] = anonymous_bio\n",
    "new_bios['counter_bio'] = anonymous_counter_bio\n",
    "\n",
    "new_bios = new_bios.reset_index()\n",
    "new_bios = new_bios.drop('index', axis=1)\n",
    "\n",
    "with open('/share/hel/datasets/jobiqo/talent.com/JobRec/new_bios.pkl', 'wb') as f:\n",
    "    pickle.dump(new_bios, f)"
   ]
  },
  {
   "attachments": {},
   "cell_type": "markdown",
   "metadata": {},
   "source": [
    "Split data"
   ]
  },
  {
   "cell_type": "code",
   "execution_count": 18,
   "metadata": {},
   "outputs": [],
   "source": [
    "import pickle\n",
    "import pandas as pd\n",
    "\n",
    "with open( '/share/hel/datasets/jobiqo/talent.com/JobRec/new_bios.pkl', 'rb') as file:\n",
    "    dicts = pickle.load(file)\n",
    "bios = pd.DataFrame(dicts).reset_index()\n",
    "bios.drop('index', axis=1, inplace=True)"
   ]
  },
  {
   "cell_type": "code",
   "execution_count": 19,
   "metadata": {},
   "outputs": [
    {
     "data": {
      "text/plain": [
       "assistant professor         100\n",
       "journalist                  100\n",
       "nutritionist                100\n",
       "accountant                  100\n",
       "senior software engineer    100\n",
       "interior designer           100\n",
       "yoga instructor             100\n",
       "psychotherapist             100\n",
       "model                       100\n",
       "dentist                     100\n",
       "dietitian                   100\n",
       "surgeon                     100\n",
       "personal trainer            100\n",
       "physician                   100\n",
       "painter                     100\n",
       "software engineer           100\n",
       "attorney                    100\n",
       "associate professor         100\n",
       "nurse                       100\n",
       "teacher                     100\n",
       "psychologist                100\n",
       "photographer                100\n",
       "architect                   100\n",
       "paralegal                   100\n",
       "Name: raw_title, dtype: int64"
      ]
     },
     "execution_count": 19,
     "metadata": {},
     "output_type": "execute_result"
    }
   ],
   "source": [
    "bios['raw_title'].value_counts()"
   ]
  },
  {
   "cell_type": "code",
   "execution_count": 20,
   "metadata": {},
   "outputs": [],
   "source": [
    "#Load Data\n",
    "\n",
    "from sklearn.model_selection import train_test_split\n",
    "\n",
    "train, val_test = train_test_split(bios,random_state=100, test_size=0.30, stratify=bios['raw_title'], shuffle=True)\n",
    "test, val = train_test_split(val_test,random_state=100, test_size=0.333, stratify=val_test['raw_title'], shuffle=True)\n",
    "train = train.reset_index()\n",
    "train.drop('index', axis=1, inplace=True)\n",
    "val = val.reset_index()\n",
    "val.drop('index', axis=1, inplace=True)\n",
    "test = test.reset_index()\n",
    "test.drop('index', axis=1, inplace=True)"
   ]
  },
  {
   "cell_type": "code",
   "execution_count": 21,
   "metadata": {},
   "outputs": [
    {
     "data": {
      "text/plain": [
       "(480, 240, 1680)"
      ]
     },
     "execution_count": 21,
     "metadata": {},
     "output_type": "execute_result"
    }
   ],
   "source": [
    "len(test),len(val),len(train)"
   ]
  },
  {
   "cell_type": "code",
   "execution_count": 22,
   "metadata": {},
   "outputs": [],
   "source": [
    "import pickle\n",
    "\n",
    "with open('/share/hel/datasets/jobiqo/talent.com/JobRec/train.pkl', 'wb') as f:\n",
    "    pickle.dump(train, f)\n",
    "\n",
    "with open('/share/hel/datasets/jobiqo/talent.com/JobRec/val.pkl', 'wb') as f:\n",
    "    pickle.dump(val, f)\n",
    "\n",
    "with open('/share/hel/datasets/jobiqo/talent.com/JobRec/test.pkl', 'wb') as f:\n",
    "    pickle.dump(test, f)"
   ]
  },
  {
   "attachments": {},
   "cell_type": "markdown",
   "metadata": {},
   "source": [
    "Pickle to Jason File"
   ]
  },
  {
   "cell_type": "code",
   "execution_count": 26,
   "metadata": {},
   "outputs": [],
   "source": [
    "import pickle\n",
    "import pandas as pd\n",
    "\n",
    "with open( '/share/hel/datasets/jobiqo/talent.com/JobRec/uk_jobs.pkl', 'rb') as file:\n",
    "    dicts = pickle.load(file)\n",
    "uk_jobs = pd.DataFrame(dicts)\n",
    "uk_jobs = pd.DataFrame(dicts).reset_index()\n",
    "uk_jobs = uk_jobs.drop('index', axis=1)"
   ]
  },
  {
   "cell_type": "code",
   "execution_count": 25,
   "metadata": {},
   "outputs": [
    {
     "data": {
      "text/html": [
       "<div>\n",
       "<style scoped>\n",
       "    .dataframe tbody tr th:only-of-type {\n",
       "        vertical-align: middle;\n",
       "    }\n",
       "\n",
       "    .dataframe tbody tr th {\n",
       "        vertical-align: top;\n",
       "    }\n",
       "\n",
       "    .dataframe thead th {\n",
       "        text-align: right;\n",
       "    }\n",
       "</style>\n",
       "<table border=\"1\" class=\"dataframe\">\n",
       "  <thead>\n",
       "    <tr style=\"text-align: right;\">\n",
       "      <th></th>\n",
       "      <th>raw</th>\n",
       "      <th>raw_title</th>\n",
       "      <th>gender</th>\n",
       "      <th>bio</th>\n",
       "      <th>counter_bio</th>\n",
       "    </tr>\n",
       "  </thead>\n",
       "  <tbody>\n",
       "    <tr>\n",
       "      <th>0</th>\n",
       "      <td>Ricky Heldt is a Yoga Instructor for people ne...</td>\n",
       "      <td>yoga instructor</td>\n",
       "      <td>M</td>\n",
       "      <td>Bob is a _ for people new to yoga, advanced or...</td>\n",
       "      <td>Alice is a _ for people new to yoga, advanced ...</td>\n",
       "    </tr>\n",
       "    <tr>\n",
       "      <th>1</th>\n",
       "      <td>Grant Horner is a full-time Associate Professo...</td>\n",
       "      <td>associate professor</td>\n",
       "      <td>M</td>\n",
       "      <td>Bob is a full-time _ at The Masters College in...</td>\n",
       "      <td>Alice is a full-time _ at The Masters College ...</td>\n",
       "    </tr>\n",
       "    <tr>\n",
       "      <th>2</th>\n",
       "      <td>Marina Bondarevska is an Ukranian Model curren...</td>\n",
       "      <td>model</td>\n",
       "      <td>F</td>\n",
       "      <td>Alice is an Ukranian _ currently based in Thes...</td>\n",
       "      <td>Bob is an Ukranian _ currently based in Thessa...</td>\n",
       "    </tr>\n",
       "    <tr>\n",
       "      <th>3</th>\n",
       "      <td>Adam Quang is a registered _ with the Yoga All...</td>\n",
       "      <td>yoga instructor</td>\n",
       "      <td>M</td>\n",
       "      <td>Bob is a registered _ with the Yoga Alliance E...</td>\n",
       "      <td>Alice is a registered _ with the Yoga Alliance...</td>\n",
       "    </tr>\n",
       "    <tr>\n",
       "      <th>4</th>\n",
       "      <td>Kevin Langford, PhD, is an _ of biology at Ste...</td>\n",
       "      <td>associate professor</td>\n",
       "      <td>M</td>\n",
       "      <td>Bob, PhD, is an _ of biology at Stephen F. Aus...</td>\n",
       "      <td>Alice, PhD, is an _ of biology at Stephen F. A...</td>\n",
       "    </tr>\n",
       "    <tr>\n",
       "      <th>...</th>\n",
       "      <td>...</td>\n",
       "      <td>...</td>\n",
       "      <td>...</td>\n",
       "      <td>...</td>\n",
       "      <td>...</td>\n",
       "    </tr>\n",
       "    <tr>\n",
       "      <th>1675</th>\n",
       "      <td>Joseph C Archer is a Nurse Practitioner Specia...</td>\n",
       "      <td>nurse</td>\n",
       "      <td>M</td>\n",
       "      <td>Joseph C Bob is a _ Practitioner Specialist in...</td>\n",
       "      <td>Joseph C Alice is a _ Practitioner Specialist ...</td>\n",
       "    </tr>\n",
       "    <tr>\n",
       "      <th>1676</th>\n",
       "      <td>Linda McCarthy is an _ in the office of the CT...</td>\n",
       "      <td>architect</td>\n",
       "      <td>F</td>\n",
       "      <td>Alice is an _ in the office of the CTO at Syma...</td>\n",
       "      <td>Bob is an _ in the office of the CTO at Symant...</td>\n",
       "    </tr>\n",
       "    <tr>\n",
       "      <th>1677</th>\n",
       "      <td>Steve Grunwell is a Senior Software Engineer a...</td>\n",
       "      <td>senior software engineer</td>\n",
       "      <td>M</td>\n",
       "      <td>Bob is a _ at Liquid Web. Specializing in Word...</td>\n",
       "      <td>Alice is a _ at Liquid Web. Specializing in Wo...</td>\n",
       "    </tr>\n",
       "    <tr>\n",
       "      <th>1678</th>\n",
       "      <td>Ms. Jill S. Mathews is a practicing _. Ms. Mat...</td>\n",
       "      <td>physician</td>\n",
       "      <td>F</td>\n",
       "      <td>Ms. Alice is a practicing _. Ms. Alice practic...</td>\n",
       "      <td>Ms. Bob is a practicing _. Ms. Bob practices m...</td>\n",
       "    </tr>\n",
       "    <tr>\n",
       "      <th>1679</th>\n",
       "      <td>Tiffany Coyne is a _ whose net worth is $1.2 m...</td>\n",
       "      <td>model</td>\n",
       "      <td>F</td>\n",
       "      <td>Alice is a _ whose net worth is $1.2 million. ...</td>\n",
       "      <td>Bob is a _ whose net worth is $1.2 million. he...</td>\n",
       "    </tr>\n",
       "  </tbody>\n",
       "</table>\n",
       "<p>1680 rows × 5 columns</p>\n",
       "</div>"
      ],
      "text/plain": [
       "                                                    raw  \\\n",
       "0     Ricky Heldt is a Yoga Instructor for people ne...   \n",
       "1     Grant Horner is a full-time Associate Professo...   \n",
       "2     Marina Bondarevska is an Ukranian Model curren...   \n",
       "3     Adam Quang is a registered _ with the Yoga All...   \n",
       "4     Kevin Langford, PhD, is an _ of biology at Ste...   \n",
       "...                                                 ...   \n",
       "1675  Joseph C Archer is a Nurse Practitioner Specia...   \n",
       "1676  Linda McCarthy is an _ in the office of the CT...   \n",
       "1677  Steve Grunwell is a Senior Software Engineer a...   \n",
       "1678  Ms. Jill S. Mathews is a practicing _. Ms. Mat...   \n",
       "1679  Tiffany Coyne is a _ whose net worth is $1.2 m...   \n",
       "\n",
       "                     raw_title gender  \\\n",
       "0              yoga instructor      M   \n",
       "1          associate professor      M   \n",
       "2                        model      F   \n",
       "3              yoga instructor      M   \n",
       "4          associate professor      M   \n",
       "...                        ...    ...   \n",
       "1675                     nurse      M   \n",
       "1676                 architect      F   \n",
       "1677  senior software engineer      M   \n",
       "1678                 physician      F   \n",
       "1679                     model      F   \n",
       "\n",
       "                                                    bio  \\\n",
       "0     Bob is a _ for people new to yoga, advanced or...   \n",
       "1     Bob is a full-time _ at The Masters College in...   \n",
       "2     Alice is an Ukranian _ currently based in Thes...   \n",
       "3     Bob is a registered _ with the Yoga Alliance E...   \n",
       "4     Bob, PhD, is an _ of biology at Stephen F. Aus...   \n",
       "...                                                 ...   \n",
       "1675  Joseph C Bob is a _ Practitioner Specialist in...   \n",
       "1676  Alice is an _ in the office of the CTO at Syma...   \n",
       "1677  Bob is a _ at Liquid Web. Specializing in Word...   \n",
       "1678  Ms. Alice is a practicing _. Ms. Alice practic...   \n",
       "1679  Alice is a _ whose net worth is $1.2 million. ...   \n",
       "\n",
       "                                            counter_bio  \n",
       "0     Alice is a _ for people new to yoga, advanced ...  \n",
       "1     Alice is a full-time _ at The Masters College ...  \n",
       "2     Bob is an Ukranian _ currently based in Thessa...  \n",
       "3     Alice is a registered _ with the Yoga Alliance...  \n",
       "4     Alice, PhD, is an _ of biology at Stephen F. A...  \n",
       "...                                                 ...  \n",
       "1675  Joseph C Alice is a _ Practitioner Specialist ...  \n",
       "1676  Bob is an _ in the office of the CTO at Symant...  \n",
       "1677  Alice is a _ at Liquid Web. Specializing in Wo...  \n",
       "1678  Ms. Bob is a practicing _. Ms. Bob practices m...  \n",
       "1679  Bob is a _ whose net worth is $1.2 million. he...  \n",
       "\n",
       "[1680 rows x 5 columns]"
      ]
     },
     "execution_count": 25,
     "metadata": {},
     "output_type": "execute_result"
    }
   ],
   "source": [
    "train"
   ]
  },
  {
   "cell_type": "code",
   "execution_count": 27,
   "metadata": {},
   "outputs": [
    {
     "data": {
      "text/html": [
       "<div>\n",
       "<style scoped>\n",
       "    .dataframe tbody tr th:only-of-type {\n",
       "        vertical-align: middle;\n",
       "    }\n",
       "\n",
       "    .dataframe tbody tr th {\n",
       "        vertical-align: top;\n",
       "    }\n",
       "\n",
       "    .dataframe thead th {\n",
       "        text-align: right;\n",
       "    }\n",
       "</style>\n",
       "<table border=\"1\" class=\"dataframe\">\n",
       "  <thead>\n",
       "    <tr style=\"text-align: right;\">\n",
       "      <th></th>\n",
       "      <th>title</th>\n",
       "      <th>description</th>\n",
       "    </tr>\n",
       "  </thead>\n",
       "  <tbody>\n",
       "    <tr>\n",
       "      <th>0</th>\n",
       "      <td>senior software engineer</td>\n",
       "      <td>The Senior .net Developer will be part of the ...</td>\n",
       "    </tr>\n",
       "    <tr>\n",
       "      <th>1</th>\n",
       "      <td>nurse</td>\n",
       "      <td>Registered Nurse - Good CQC -  Paid breaks - ...</td>\n",
       "    </tr>\n",
       "    <tr>\n",
       "      <th>2</th>\n",
       "      <td>nurse</td>\n",
       "      <td>It’s more than a possibility      Nurse - U...</td>\n",
       "    </tr>\n",
       "    <tr>\n",
       "      <th>3</th>\n",
       "      <td>dentist</td>\n",
       "      <td>We’re looking for an Associate Dentist to wor...</td>\n",
       "    </tr>\n",
       "    <tr>\n",
       "      <th>4</th>\n",
       "      <td>software engineer</td>\n",
       "      <td>Role Overview     Looking for the next step...</td>\n",
       "    </tr>\n",
       "    <tr>\n",
       "      <th>...</th>\n",
       "      <td>...</td>\n",
       "      <td>...</td>\n",
       "    </tr>\n",
       "    <tr>\n",
       "      <th>2080</th>\n",
       "      <td>dentist</td>\n",
       "      <td>Description Associate Dentist required for ext...</td>\n",
       "    </tr>\n",
       "    <tr>\n",
       "      <th>2081</th>\n",
       "      <td>senior software engineer</td>\n",
       "      <td>MediaMathhelps the world's top brands deliver...</td>\n",
       "    </tr>\n",
       "    <tr>\n",
       "      <th>2082</th>\n",
       "      <td>photographer</td>\n",
       "      <td>Photographer    Altnagelvin, Londonderry BT...</td>\n",
       "    </tr>\n",
       "    <tr>\n",
       "      <th>2083</th>\n",
       "      <td>personal trainer</td>\n",
       "      <td>Rare opportunity to join The Chapel - Luxury...</td>\n",
       "    </tr>\n",
       "    <tr>\n",
       "      <th>2084</th>\n",
       "      <td>senior software engineer</td>\n",
       "      <td>Senior Software Engineer - Up to £75,000 - F...</td>\n",
       "    </tr>\n",
       "  </tbody>\n",
       "</table>\n",
       "<p>2085 rows × 2 columns</p>\n",
       "</div>"
      ],
      "text/plain": [
       "                         title  \\\n",
       "0     senior software engineer   \n",
       "1                        nurse   \n",
       "2                        nurse   \n",
       "3                      dentist   \n",
       "4            software engineer   \n",
       "...                        ...   \n",
       "2080                   dentist   \n",
       "2081  senior software engineer   \n",
       "2082              photographer   \n",
       "2083          personal trainer   \n",
       "2084  senior software engineer   \n",
       "\n",
       "                                            description  \n",
       "0     The Senior .net Developer will be part of the ...  \n",
       "1      Registered Nurse - Good CQC -  Paid breaks - ...  \n",
       "2        It’s more than a possibility      Nurse - U...  \n",
       "3      We’re looking for an Associate Dentist to wor...  \n",
       "4        Role Overview     Looking for the next step...  \n",
       "...                                                 ...  \n",
       "2080  Description Associate Dentist required for ext...  \n",
       "2081   MediaMathhelps the world's top brands deliver...  \n",
       "2082     Photographer    Altnagelvin, Londonderry BT...  \n",
       "2083    Rare opportunity to join The Chapel - Luxury...  \n",
       "2084    Senior Software Engineer - Up to £75,000 - F...  \n",
       "\n",
       "[2085 rows x 2 columns]"
      ]
     },
     "execution_count": 27,
     "metadata": {},
     "output_type": "execute_result"
    }
   ],
   "source": [
    "uk_jobs"
   ]
  },
  {
   "cell_type": "code",
   "execution_count": 29,
   "metadata": {},
   "outputs": [],
   "source": [
    "import pickle\n",
    "import pandas as pd\n",
    "\n",
    "with open( '/share/hel/datasets/jobiqo/talent.com/JobRec/uk_jobs.pkl', 'rb') as file:\n",
    "    dicts = pickle.load(file)\n",
    "uk_jobs = pd.DataFrame(dicts)\n",
    "uk_jobs = pd.DataFrame(dicts).reset_index()\n",
    "uk_jobs = uk_jobs.drop('index', axis=1)\n",
    "\n",
    "home_path = '/share/hel/datasets/jobiqo/talent.com/JobRec/BM25/'\n",
    "\n",
    "uk_jobs['id'] = ['doc'+str(i+1) for i in range(len(uk_jobs))]\n",
    "\n",
    "#bios_true_gender = bios.drop(['raw','counter_bio'],axis='columns')\n",
    "#bios_true_gender.rename(columns = {'bio':'contents'}, inplace = True)\n",
    "#bios_true_gender.to_json(home_path + 'counterfactual_gender/bios.json', orient='records')\n",
    "\n",
    "\n",
    "uk_jobs.rename(columns = {'description':'contents'}, inplace = True)\n",
    "uk_jobs.to_json(home_path + 'uk_jobs.json', orient='records')"
   ]
  },
  {
   "cell_type": "markdown",
   "metadata": {},
   "source": [
    "Get TSV"
   ]
  },
  {
   "cell_type": "code",
   "execution_count": 31,
   "metadata": {},
   "outputs": [],
   "source": [
    "import pickle\n",
    "import pandas as pd\n",
    "\n",
    "with open('/share/hel/datasets/jobiqo/talent.com/JobRec/train.pkl', 'rb') as f:\n",
    "    dicts = pickle.load(f)\n",
    "    data = pd.DataFrame(dicts)\n",
    "    data = data['bio']\n",
    "    data.to_csv('/share/hel/datasets/jobiqo/talent.com/JobRec/train.tsv', header=False, sep=\"\\t\") \n",
    "\n",
    "\n",
    "with open('/share/hel/datasets/jobiqo/talent.com/JobRec/val.pkl', 'rb') as f:\n",
    "    dicts = pickle.load(f)\n",
    "    data = pd.DataFrame(dicts)\n",
    "    data = data['bio']\n",
    "    data.to_csv('/share/hel/datasets/jobiqo/talent.com/JobRec/val.tsv', header=False, sep=\"\\t\")\n",
    "\n",
    "with open('/share/hel/datasets/jobiqo/talent.com/JobRec/test.pkl', 'rb') as f:\n",
    "    dicts = pickle.load(f)\n",
    "    data = pd.DataFrame(dicts)\n",
    "    data = data['bio']\n",
    "    data.to_csv('/share/hel/datasets/jobiqo/talent.com/JobRec/test.tsv', header=False, sep=\"\\t\")"
   ]
  },
  {
   "attachments": {},
   "cell_type": "markdown",
   "metadata": {},
   "source": [
    "GEt BM25 hits"
   ]
  },
  {
   "cell_type": "code",
   "execution_count": 32,
   "metadata": {},
   "outputs": [
    {
     "name": "stdout",
     "output_type": "stream",
     "text": [
      "WARNING: sun.reflect.Reflection.getCallerClass is not supported. This will impact performance.\n",
      "2024-01-24 17:49:30,736 INFO  [main] index.IndexCollection (IndexCollection.java:391) - Setting log level to INFO\n",
      "2024-01-24 17:49:30,738 INFO  [main] index.IndexCollection (IndexCollection.java:394) - Starting indexer...\n",
      "2024-01-24 17:49:30,738 INFO  [main] index.IndexCollection (IndexCollection.java:395) - ============ Loading Parameters ============\n",
      "2024-01-24 17:49:30,738 INFO  [main] index.IndexCollection (IndexCollection.java:396) - DocumentCollection path: /share/hel/datasets/jobiqo/talent.com/JobRec/BM25/\n",
      "2024-01-24 17:49:30,738 INFO  [main] index.IndexCollection (IndexCollection.java:397) - CollectionClass: JsonCollection\n",
      "2024-01-24 17:49:30,739 INFO  [main] index.IndexCollection (IndexCollection.java:398) - Generator: DefaultLuceneDocumentGenerator\n",
      "2024-01-24 17:49:30,739 INFO  [main] index.IndexCollection (IndexCollection.java:399) - Threads: 1\n",
      "2024-01-24 17:49:30,739 INFO  [main] index.IndexCollection (IndexCollection.java:400) - Language: en\n",
      "2024-01-24 17:49:30,739 INFO  [main] index.IndexCollection (IndexCollection.java:401) - Stemmer: porter\n",
      "2024-01-24 17:49:30,740 INFO  [main] index.IndexCollection (IndexCollection.java:402) - Keep stopwords? false\n",
      "2024-01-24 17:49:30,740 INFO  [main] index.IndexCollection (IndexCollection.java:403) - Stopwords: null\n",
      "2024-01-24 17:49:30,740 INFO  [main] index.IndexCollection (IndexCollection.java:404) - Store positions? true\n",
      "2024-01-24 17:49:30,740 INFO  [main] index.IndexCollection (IndexCollection.java:405) - Store docvectors? true\n",
      "2024-01-24 17:49:30,741 INFO  [main] index.IndexCollection (IndexCollection.java:406) - Store document \"contents\" field? false\n",
      "2024-01-24 17:49:30,741 INFO  [main] index.IndexCollection (IndexCollection.java:407) - Store document \"raw\" field? true\n",
      "2024-01-24 17:49:30,741 INFO  [main] index.IndexCollection (IndexCollection.java:408) - Additional fields to index: []\n",
      "2024-01-24 17:49:30,741 INFO  [main] index.IndexCollection (IndexCollection.java:409) - Optimize (merge segments)? false\n",
      "2024-01-24 17:49:30,741 INFO  [main] index.IndexCollection (IndexCollection.java:410) - Whitelist: null\n",
      "2024-01-24 17:49:30,742 INFO  [main] index.IndexCollection (IndexCollection.java:411) - Pretokenized?: false\n",
      "2024-01-24 17:49:30,742 INFO  [main] index.IndexCollection (IndexCollection.java:412) - Index path: /share/hel/datasets/jobiqo/talent.com/JobRec/BM25/indexes\n",
      "2024-01-24 17:49:30,744 INFO  [main] index.IndexCollection (IndexCollection.java:450) - ============ Indexing Collection ============\n",
      "2024-01-24 17:49:31,143 INFO  [main] index.IndexCollection (IndexCollection.java:565) - Thread pool with 1 threads initialized.\n",
      "2024-01-24 17:49:31,144 INFO  [main] index.IndexCollection (IndexCollection.java:567) - Initializing collection in /share/hel/datasets/jobiqo/talent.com/JobRec/BM25\n",
      "2024-01-24 17:49:31,150 INFO  [main] index.IndexCollection (IndexCollection.java:576) - 1 file found\n",
      "2024-01-24 17:49:31,150 INFO  [main] index.IndexCollection (IndexCollection.java:577) - Starting to index...\n",
      "2024-01-24 17:49:36,891 DEBUG [pool-2-thread-1] index.IndexCollection$LocalIndexerThread (IndexCollection.java:356) - BM25/uk_jobs.json: 2085 docs added.\n",
      "2024-01-24 17:49:40,024 INFO  [main] index.IndexCollection (IndexCollection.java:633) - Indexing Complete! 2,085 documents indexed\n",
      "2024-01-24 17:49:40,024 INFO  [main] index.IndexCollection (IndexCollection.java:634) - ============ Final Counter Values ============\n",
      "2024-01-24 17:49:40,025 INFO  [main] index.IndexCollection (IndexCollection.java:635) - indexed:            2,085\n",
      "2024-01-24 17:49:40,025 INFO  [main] index.IndexCollection (IndexCollection.java:636) - unindexable:            0\n",
      "2024-01-24 17:49:40,025 INFO  [main] index.IndexCollection (IndexCollection.java:637) - empty:                  0\n",
      "2024-01-24 17:49:40,025 INFO  [main] index.IndexCollection (IndexCollection.java:638) - skipped:                0\n",
      "2024-01-24 17:49:40,025 INFO  [main] index.IndexCollection (IndexCollection.java:639) - errors:                 0\n",
      "2024-01-24 17:49:40,033 INFO  [main] index.IndexCollection (IndexCollection.java:642) - Total 2,085 documents indexed in 00:00:09\n"
     ]
    }
   ],
   "source": [
    "!python -m pyserini.index.lucene \\\n",
    "  --collection JsonCollection \\\n",
    "  --input /share/hel/datasets/jobiqo/talent.com/JobRec/BM25/ \\\n",
    "  --index /share/hel/datasets/jobiqo/talent.com/JobRec/BM25/indexes \\\n",
    "  --generator DefaultLuceneDocumentGenerator \\\n",
    "  --threads 1 \\\n",
    "  --storePositions --storeDocvectors --storeRaw"
   ]
  },
  {
   "cell_type": "code",
   "execution_count": 33,
   "metadata": {},
   "outputs": [
    {
     "name": "stdout",
     "output_type": "stream",
     "text": [
      "Running /share/hel/datasets/jobiqo/talent.com/JobRec/train.tsv topics, saving to /share/hel/datasets/jobiqo/talent.com/JobRec/BM25/train_hits.txt...\n",
      "100%|███████████████████████████████████████| 1680/1680 [02:17<00:00, 12.25it/s]\n"
     ]
    }
   ],
   "source": [
    "!python -m pyserini.search.lucene  --index /share/hel/datasets/jobiqo/talent.com/JobRec/BM25/indexes --topics /share/hel/datasets/jobiqo/talent.com/JobRec/train.tsv --output /share/hel/datasets/jobiqo/talent.com/JobRec/BM25/train_hits.txt  --bm25"
   ]
  },
  {
   "cell_type": "code",
   "execution_count": 34,
   "metadata": {},
   "outputs": [
    {
     "name": "stdout",
     "output_type": "stream",
     "text": [
      "Running /share/hel/datasets/jobiqo/talent.com/JobRec/val.tsv topics, saving to /share/hel/datasets/jobiqo/talent.com/JobRec/BM25/val_hits.txt...\n",
      "100%|█████████████████████████████████████████| 240/240 [00:21<00:00, 11.18it/s]\n"
     ]
    }
   ],
   "source": [
    "!python -m pyserini.search.lucene  --index /share/hel/datasets/jobiqo/talent.com/JobRec/BM25/indexes --topics /share/hel/datasets/jobiqo/talent.com/JobRec/val.tsv --output /share/hel/datasets/jobiqo/talent.com/JobRec/BM25/val_hits.txt  --bm25"
   ]
  },
  {
   "cell_type": "code",
   "execution_count": 36,
   "metadata": {},
   "outputs": [
    {
     "name": "stdout",
     "output_type": "stream",
     "text": [
      "Running /share/hel/datasets/jobiqo/talent.com/JobRec/test.tsv topics, saving to /share/hel/datasets/jobiqo/talent.com/JobRec/BM25/test_hits.txt...\n",
      "100%|█████████████████████████████████████████| 480/480 [00:43<00:00, 11.03it/s]\n"
     ]
    }
   ],
   "source": [
    "!python -m pyserini.search.lucene  --index /share/hel/datasets/jobiqo/talent.com/JobRec/BM25/indexes --topics /share/hel/datasets/jobiqo/talent.com/JobRec/test.tsv --output /share/hel/datasets/jobiqo/talent.com/JobRec/BM25/test_hits.txt  --bm25"
   ]
  },
  {
   "cell_type": "code",
   "execution_count": null,
   "metadata": {},
   "outputs": [],
   "source": []
  }
 ],
 "metadata": {
  "kernelspec": {
   "display_name": "Python 3.6.9 ('adapterfusion': conda)",
   "language": "python",
   "name": "python3"
  },
  "language_info": {
   "codemirror_mode": {
    "name": "ipython",
    "version": 3
   },
   "file_extension": ".py",
   "mimetype": "text/x-python",
   "name": "python",
   "nbconvert_exporter": "python",
   "pygments_lexer": "ipython3",
   "version": "3.10.4"
  },
  "orig_nbformat": 4,
  "vscode": {
   "interpreter": {
    "hash": "54416a898087e692e51f3d654c363a8a05558aed57ab1c18f3e4f84290aeecd3"
   }
  }
 },
 "nbformat": 4,
 "nbformat_minor": 2
}
