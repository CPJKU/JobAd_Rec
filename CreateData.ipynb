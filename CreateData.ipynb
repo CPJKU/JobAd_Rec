{
 "cells": [
  {
   "attachments": {},
   "cell_type": "markdown",
   "metadata": {},
   "source": [
    "Create matching"
   ]
  },
  {
   "cell_type": "code",
   "execution_count": 6,
   "metadata": {},
   "outputs": [
    {
     "name": "stdout",
     "output_type": "stream",
     "text": [
      "361634\n"
     ]
    }
   ],
   "source": [
    "import pickle\n",
    "from sklearn.utils import shuffle\n",
    "import pandas as pd\n",
    "\n",
    "with open( '/share/cp/datasets/nlp/text_classification_bias/bios/BIOS.pkl', 'rb') as file:\n",
    "    bios_dicts = pickle.load(file)\n",
    "df = pd.DataFrame(bios_dicts)\n",
    "\n",
    "df.drop(['path','name','start_pos','URI','title'], axis=1, inplace=True)\n",
    "df['raw_title'] = df['raw_title'].map(lambda x: x.lower())\n",
    "raw_bio =[]\n",
    "bio = []\n",
    "for i in range(len(df)):\n",
    "    raw_bio.append(df['raw'][i].replace(df['raw_title'][i],'_'))\n",
    "    bio.append(df['bio'][i].replace(df['raw_title'][i],'_'))\n",
    "df['raw'] = raw_bio\n",
    "df['bio'] = bio\n",
    "print(len(df))\n"
   ]
  },
  {
   "cell_type": "code",
   "execution_count": 7,
   "metadata": {},
   "outputs": [
    {
     "name": "stdout",
     "output_type": "stream",
     "text": [
      "903011\n",
      "2109\n"
     ]
    }
   ],
   "source": [
    "import pandas as pd\n",
    "import glob\n",
    "\n",
    "path = '/share/hel/datasets/jobiqo/talent.com/UK/'\n",
    "all_files = glob.glob(path + \"/*.csv\")\n",
    "\n",
    "li = []\n",
    "\n",
    "for filename in all_files:\n",
    "    frame = pd.read_csv(filename, index_col=None, header=0)\n",
    "    li.append(frame)\n",
    "\n",
    "uk_data = pd.concat(li, axis=0, ignore_index=True)\n",
    "uk_data.drop(['company','city','state','country','date','time','jobid'], axis=1, inplace=True)\n",
    "uk_data['title'] = uk_data['title'].map(lambda x: x.lower())\n",
    "print(len(uk_data))\n",
    "uk_data.drop_duplicates(subset=\"description\",  keep=False, inplace=True)\n",
    "new_uk_data = uk_data[uk_data['title'].isin(df.raw_title.unique())]\n",
    "print(len(new_uk_data))"
   ]
  },
  {
   "cell_type": "code",
   "execution_count": 8,
   "metadata": {},
   "outputs": [
    {
     "name": "stdout",
     "output_type": "stream",
     "text": [
      "320038\n"
     ]
    }
   ],
   "source": [
    "new_df = df[df['raw_title'].isin(uk_data.title.unique())]\n",
    "print(len(new_df))"
   ]
  },
  {
   "cell_type": "code",
   "execution_count": 9,
   "metadata": {},
   "outputs": [],
   "source": [
    "import pickle\n",
    "\n",
    "with open('/home/deepak/RecSys2023/Dataset/bios.pkl', 'wb') as f:\n",
    "    pickle.dump(new_df, f)\n",
    "\n",
    "with open('/home/deepak/RecSys2023/Dataset/uk_jobs.pkl', 'wb') as f:\n",
    "    pickle.dump(new_uk_data, f)"
   ]
  },
  {
   "attachments": {},
   "cell_type": "markdown",
   "metadata": {},
   "source": [
    "Split data"
   ]
  },
  {
   "cell_type": "code",
   "execution_count": 17,
   "metadata": {},
   "outputs": [],
   "source": [
    "with open( '/home/deepak/RecSys2023/Dataset/uk_jobs.pkl', 'rb') as file:\n",
    "    dicts = pickle.load(file)\n",
    "uk_jobs = pd.DataFrame(dicts).reset_index()\n",
    "uk_jobs.drop('index', axis=1, inplace=True)"
   ]
  },
  {
   "cell_type": "code",
   "execution_count": 18,
   "metadata": {},
   "outputs": [
    {
     "data": {
      "text/plain": [
       "software engineer           522\n",
       "senior software engineer    405\n",
       "dentist                     279\n",
       "accountant                  162\n",
       "teacher                     152\n",
       "architect                   146\n",
       "nurse                       141\n",
       "paralegal                    96\n",
       "painter                      70\n",
       "psychologist                 33\n",
       "personal trainer             23\n",
       "dietitian                    22\n",
       "interior designer            18\n",
       "photographer                 16\n",
       "psychotherapist               4\n",
       "assistant professor           4\n",
       "journalist                    4\n",
       "associate professor           3\n",
       "attorney                      3\n",
       "yoga instructor               2\n",
       "model                         1\n",
       "surgeon                       1\n",
       "nutritionist                  1\n",
       "physician                     1\n",
       "Name: title, dtype: int64"
      ]
     },
     "execution_count": 18,
     "metadata": {},
     "output_type": "execute_result"
    }
   ],
   "source": [
    "uk_jobs['title'].value_counts()"
   ]
  },
  {
   "cell_type": "code",
   "execution_count": 26,
   "metadata": {},
   "outputs": [],
   "source": [
    "uk_jobs = uk_jobs.drop(uk_jobs[uk_jobs['title']=='physician'].index)\n",
    "uk_jobs = uk_jobs.drop(uk_jobs[uk_jobs['title']=='nutritionist'].index)\n",
    "uk_jobs = uk_jobs.drop(uk_jobs[uk_jobs['title']=='surgeon'].index)\n",
    "uk_jobs = uk_jobs.drop(uk_jobs[uk_jobs['title']=='model'].index)\n",
    "uk_jobs = uk_jobs.drop(uk_jobs[uk_jobs['title']=='yoga instructor'].index)\n",
    "uk_jobs = uk_jobs.drop(uk_jobs[uk_jobs['title']=='attorney'].index)\n",
    "uk_jobs = uk_jobs.drop(uk_jobs[uk_jobs['title']=='associate professor'].index)\n",
    "uk_jobs = uk_jobs.drop(uk_jobs[uk_jobs['title']=='journalist'].index)\n",
    "uk_jobs = uk_jobs.drop(uk_jobs[uk_jobs['title']=='assistant professor'].index)\n",
    "uk_jobs = uk_jobs.drop(uk_jobs[uk_jobs['title']=='psychotherapist'].index)"
   ]
  },
  {
   "cell_type": "code",
   "execution_count": 27,
   "metadata": {},
   "outputs": [],
   "source": [
    "#Load Data\n",
    "\n",
    "from sklearn.model_selection import train_test_split\n",
    "\n",
    "train, val_test = train_test_split(uk_jobs,random_state=100, test_size=0.30, stratify=uk_jobs['title'], shuffle=True)\n",
    "test, val = train_test_split(val_test,random_state=100, test_size=0.333, stratify=val_test['title'], shuffle=True)\n",
    "train = train.reset_index()\n",
    "train.drop('index', axis=1, inplace=True)\n",
    "val = val.reset_index()\n",
    "val.drop('index', axis=1, inplace=True)\n",
    "test = test.reset_index()\n",
    "test.drop('index', axis=1, inplace=True)"
   ]
  },
  {
   "cell_type": "code",
   "execution_count": 29,
   "metadata": {},
   "outputs": [
    {
     "data": {
      "text/plain": [
       "(417, 209, 1459)"
      ]
     },
     "execution_count": 29,
     "metadata": {},
     "output_type": "execute_result"
    }
   ],
   "source": [
    "len(test),len(val),len(train)"
   ]
  },
  {
   "cell_type": "code",
   "execution_count": 30,
   "metadata": {},
   "outputs": [],
   "source": [
    "import pickle\n",
    "\n",
    "with open('/home/deepak/RecSys2023/Dataset/train.pkl', 'wb') as f:\n",
    "    pickle.dump(train, f)\n",
    "\n",
    "with open('/home/deepak/RecSys2023/Dataset/val.pkl', 'wb') as f:\n",
    "    pickle.dump(val, f)\n",
    "\n",
    "with open('/home/deepak/RecSys2023/Dataset/test.pkl', 'wb') as f:\n",
    "    pickle.dump(test, f)"
   ]
  },
  {
   "attachments": {},
   "cell_type": "markdown",
   "metadata": {},
   "source": [
    "Bios with counterfactual"
   ]
  },
  {
   "cell_type": "code",
   "execution_count": 10,
   "metadata": {},
   "outputs": [
    {
     "name": "stderr",
     "output_type": "stream",
     "text": [
      "/tmp/deepak/ipykernel_4019144/2747506984.py:18: TqdmWarning: IProgress not found. Please update jupyter and ipywidgets. See https://ipywidgets.readthedocs.io/en/stable/user_install.html\n",
      "  from tqdm.autonotebook import tqdm\n",
      "100%|██████████| 320038/320038 [01:44<00:00, 3048.84it/s]\n"
     ]
    },
    {
     "data": {
      "text/html": [
       "<div>\n",
       "<style scoped>\n",
       "    .dataframe tbody tr th:only-of-type {\n",
       "        vertical-align: middle;\n",
       "    }\n",
       "\n",
       "    .dataframe tbody tr th {\n",
       "        vertical-align: top;\n",
       "    }\n",
       "\n",
       "    .dataframe thead th {\n",
       "        text-align: right;\n",
       "    }\n",
       "</style>\n",
       "<table border=\"1\" class=\"dataframe\">\n",
       "  <thead>\n",
       "    <tr style=\"text-align: right;\">\n",
       "      <th></th>\n",
       "      <th>raw</th>\n",
       "      <th>raw_title</th>\n",
       "      <th>gender</th>\n",
       "      <th>bio</th>\n",
       "      <th>counter_bio</th>\n",
       "    </tr>\n",
       "  </thead>\n",
       "  <tbody>\n",
       "    <tr>\n",
       "      <th>0</th>\n",
       "      <td>* Nora Fisher Onar is an _ of international re...</td>\n",
       "      <td>assistant professor</td>\n",
       "      <td>F</td>\n",
       "      <td>* Alice is an _ of international relations at ...</td>\n",
       "      <td>* Bob is an _ of international relations at Ba...</td>\n",
       "    </tr>\n",
       "    <tr>\n",
       "      <th>2</th>\n",
       "      <td>Dr. Shawn Zelig Aster is an _ of Bible at Yesh...</td>\n",
       "      <td>assistant professor</td>\n",
       "      <td>M</td>\n",
       "      <td>Dr. Bob is an _ of Bible at Yeshiva University...</td>\n",
       "      <td>Dr. Alice is an _ of Bible at Yeshiva Universi...</td>\n",
       "    </tr>\n",
       "    <tr>\n",
       "      <th>3</th>\n",
       "      <td>Brittany McCandless is a _ with a print and br...</td>\n",
       "      <td>journalist</td>\n",
       "      <td>F</td>\n",
       "      <td>Alice is a _ with a print and broadcast backgr...</td>\n",
       "      <td>Bob is a _ with a print and broadcast backgrou...</td>\n",
       "    </tr>\n",
       "    <tr>\n",
       "      <th>4</th>\n",
       "      <td>Arturo Toledo is an Architect. He runs a bouti...</td>\n",
       "      <td>architect</td>\n",
       "      <td>M</td>\n",
       "      <td>Bob is an Architect. He runs a boutique design...</td>\n",
       "      <td>Alice is an Architect. she runs a boutique des...</td>\n",
       "    </tr>\n",
       "    <tr>\n",
       "      <th>5</th>\n",
       "      <td>Jan De Clercq is a solution _ working for the ...</td>\n",
       "      <td>architect</td>\n",
       "      <td>M</td>\n",
       "      <td>Bob is a solution _ working for the worldwide ...</td>\n",
       "      <td>Alice is a solution _ working for the worldwid...</td>\n",
       "    </tr>\n",
       "    <tr>\n",
       "      <th>...</th>\n",
       "      <td>...</td>\n",
       "      <td>...</td>\n",
       "      <td>...</td>\n",
       "      <td>...</td>\n",
       "      <td>...</td>\n",
       "    </tr>\n",
       "    <tr>\n",
       "      <th>361629</th>\n",
       "      <td>Fernando Quesada is an Attorney at-law admitte...</td>\n",
       "      <td>attorney</td>\n",
       "      <td>M</td>\n",
       "      <td>Bob is an Attorney at-law admitted in Mexico i...</td>\n",
       "      <td>Alice is an Attorney at-law admitted in Mexico...</td>\n",
       "    </tr>\n",
       "    <tr>\n",
       "      <th>361630</th>\n",
       "      <td>Jeffrey Kucik is an _ in the School of Governm...</td>\n",
       "      <td>assistant professor</td>\n",
       "      <td>M</td>\n",
       "      <td>Bob is an _ in the School of Government and Pu...</td>\n",
       "      <td>Alice is an _ in the School of Government and ...</td>\n",
       "    </tr>\n",
       "    <tr>\n",
       "      <th>361631</th>\n",
       "      <td>Leslie E. Seawright is an Assistant Professor ...</td>\n",
       "      <td>assistant professor</td>\n",
       "      <td>F</td>\n",
       "      <td>Alice is an Assistant Professor in the Liberal...</td>\n",
       "      <td>Bob is an Assistant Professor in the Liberal A...</td>\n",
       "    </tr>\n",
       "    <tr>\n",
       "      <th>361632</th>\n",
       "      <td>Paul Bird is a Chartered Accountant with over ...</td>\n",
       "      <td>accountant</td>\n",
       "      <td>M</td>\n",
       "      <td>Bob is a Chartered Accountant with over 19 yea...</td>\n",
       "      <td>Alice is a Chartered Accountant with over 19 y...</td>\n",
       "    </tr>\n",
       "    <tr>\n",
       "      <th>361633</th>\n",
       "      <td>Jesse Cunha is an Associate Professor in the G...</td>\n",
       "      <td>associate professor</td>\n",
       "      <td>M</td>\n",
       "      <td>Bob is an Associate Professor in the Graduate ...</td>\n",
       "      <td>Alice is an Associate Professor in the Graduat...</td>\n",
       "    </tr>\n",
       "  </tbody>\n",
       "</table>\n",
       "<p>320038 rows × 5 columns</p>\n",
       "</div>"
      ],
      "text/plain": [
       "                                                      raw  \\\n",
       "0       * Nora Fisher Onar is an _ of international re...   \n",
       "2       Dr. Shawn Zelig Aster is an _ of Bible at Yesh...   \n",
       "3       Brittany McCandless is a _ with a print and br...   \n",
       "4       Arturo Toledo is an Architect. He runs a bouti...   \n",
       "5       Jan De Clercq is a solution _ working for the ...   \n",
       "...                                                   ...   \n",
       "361629  Fernando Quesada is an Attorney at-law admitte...   \n",
       "361630  Jeffrey Kucik is an _ in the School of Governm...   \n",
       "361631  Leslie E. Seawright is an Assistant Professor ...   \n",
       "361632  Paul Bird is a Chartered Accountant with over ...   \n",
       "361633  Jesse Cunha is an Associate Professor in the G...   \n",
       "\n",
       "                  raw_title gender  \\\n",
       "0       assistant professor      F   \n",
       "2       assistant professor      M   \n",
       "3                journalist      F   \n",
       "4                 architect      M   \n",
       "5                 architect      M   \n",
       "...                     ...    ...   \n",
       "361629             attorney      M   \n",
       "361630  assistant professor      M   \n",
       "361631  assistant professor      F   \n",
       "361632           accountant      M   \n",
       "361633  associate professor      M   \n",
       "\n",
       "                                                      bio  \\\n",
       "0       * Alice is an _ of international relations at ...   \n",
       "2       Dr. Bob is an _ of Bible at Yeshiva University...   \n",
       "3       Alice is a _ with a print and broadcast backgr...   \n",
       "4       Bob is an Architect. He runs a boutique design...   \n",
       "5       Bob is a solution _ working for the worldwide ...   \n",
       "...                                                   ...   \n",
       "361629  Bob is an Attorney at-law admitted in Mexico i...   \n",
       "361630  Bob is an _ in the School of Government and Pu...   \n",
       "361631  Alice is an Assistant Professor in the Liberal...   \n",
       "361632  Bob is a Chartered Accountant with over 19 yea...   \n",
       "361633  Bob is an Associate Professor in the Graduate ...   \n",
       "\n",
       "                                              counter_bio  \n",
       "0       * Bob is an _ of international relations at Ba...  \n",
       "2       Dr. Alice is an _ of Bible at Yeshiva Universi...  \n",
       "3       Bob is a _ with a print and broadcast backgrou...  \n",
       "4       Alice is an Architect. she runs a boutique des...  \n",
       "5       Alice is a solution _ working for the worldwid...  \n",
       "...                                                   ...  \n",
       "361629  Alice is an Attorney at-law admitted in Mexico...  \n",
       "361630  Alice is an _ in the School of Government and ...  \n",
       "361631  Bob is an Assistant Professor in the Liberal A...  \n",
       "361632  Alice is a Chartered Accountant with over 19 y...  \n",
       "361633  Alice is an Associate Professor in the Graduat...  \n",
       "\n",
       "[320038 rows x 5 columns]"
      ]
     },
     "execution_count": 10,
     "metadata": {},
     "output_type": "execute_result"
    }
   ],
   "source": [
    "import pickle\n",
    "import pandas as pd\n",
    "\n",
    "with open( '/home/deepak/RecSys2023/Dataset/bios.pkl', 'rb') as file:\n",
    "    dicts = pickle.load(file)\n",
    "bios = pd.DataFrame(dicts)\n",
    "#bios = pd.DataFrame(dicts).reset_index()\n",
    "#bios = bios.drop('index', axis=1)\n",
    "\n",
    "import pickle\n",
    "import pandas as pd\n",
    "\n",
    "with open( '/share/cp/datasets/nlp/text_classification_bias/bios/BIOS.pkl', 'rb') as file:\n",
    "    dicts = pickle.load(file)\n",
    "original_bios = pd.DataFrame(dicts)\n",
    "\n",
    "import regex as re\n",
    "from tqdm.autonotebook import tqdm\n",
    "\n",
    "male_words = ['mr','his','he','him','himself']\n",
    "female_words = ['mrs','hers','she','her','herself']\n",
    "\n",
    "bio_list = []\n",
    "counterfactual_list = []\n",
    "\n",
    "for id in tqdm(bios.index):\n",
    "    bio_string = bios['raw'][id]\n",
    "    name_list = list(original_bios['name'][id])\n",
    "    if len(name_list[1])==1:\n",
    "        name_list[1] = name_list[1]+'.'\n",
    "    if '' in name_list:\n",
    "        name_list.remove('')\n",
    "\n",
    "\n",
    "    bio_string = re.sub(' '.join(name_list), 'NAME',bio_string,flags=re.I)\n",
    "    for name in name_list:\n",
    "            bio_string = re.sub(r'\\s'+name+r'\\s', ' NAME ',bio_string,flags=re.I)\n",
    "    if bios['gender'][id]=='M':\n",
    "        bio_string = re.sub('NAME', 'Bob',bio_string)\n",
    "        bio_list.append(bio_string)\n",
    "        for i in range(len(male_words)):\n",
    "            bio_string = re.sub(r'\\s'+male_words[i]+r'\\s', ' '+female_words[i]+' ',bio_string,flags=re.I)\n",
    "\n",
    "        bio_string = re.sub('Bob', 'Alice',bio_string)\n",
    "    elif bios['gender'][id]=='F':\n",
    "        bio_string = re.sub('NAME', 'Alice',bio_string)\n",
    "        bio_list.append(bio_string)\n",
    "        for i in range(len(male_words)):\n",
    "            bio_string = re.sub(r'\\s'+female_words[i]+r'\\s',' '+ male_words[i]+' ',bio_string,flags=re.I)\n",
    "\n",
    "        bio_string = re.sub('Alice', 'Bob',bio_string)\n",
    "    counterfactual_list.append(bio_string)\n",
    "\n",
    "bios['bio'] = bio_list\n",
    "bios['counter_bio'] = counterfactual_list\n",
    "bios"
   ]
  },
  {
   "cell_type": "code",
   "execution_count": 11,
   "metadata": {},
   "outputs": [],
   "source": [
    "bios = bios.reset_index()\n",
    "bios = bios.drop('index', axis=1)\n",
    "\n",
    "with open('/home/deepak/RecSys2023/Dataset/new_bios.pkl', 'wb') as f:\n",
    "    pickle.dump(bios, f)"
   ]
  },
  {
   "cell_type": "code",
   "execution_count": 2,
   "metadata": {},
   "outputs": [],
   "source": [
    "import pickle\n",
    "import pandas as pd\n",
    "with open( '/home/deepak/RecSys2023/Dataset/val.pkl', 'rb') as file:\n",
    "    dicts = pickle.load(file)\n",
    "uk_jobs_val = pd.DataFrame(dicts)"
   ]
  },
  {
   "cell_type": "code",
   "execution_count": 3,
   "metadata": {},
   "outputs": [
    {
     "data": {
      "text/plain": [
       "software engineer           53\n",
       "senior software engineer    40\n",
       "dentist                     28\n",
       "accountant                  16\n",
       "architect                   15\n",
       "teacher                     15\n",
       "nurse                       14\n",
       "paralegal                   10\n",
       "painter                      7\n",
       "psychologist                 3\n",
       "interior designer            2\n",
       "photographer                 2\n",
       "dietitian                    2\n",
       "personal trainer             2\n",
       "Name: title, dtype: int64"
      ]
     },
     "execution_count": 3,
     "metadata": {},
     "output_type": "execute_result"
    }
   ],
   "source": [
    "uk_jobs_val['title'].value_counts()"
   ]
  },
  {
   "cell_type": "code",
   "execution_count": 4,
   "metadata": {},
   "outputs": [
    {
     "data": {
      "text/plain": [
       "array(['architect', 'software engineer', 'interior designer',\n",
       "       'senior software engineer', 'dentist', 'paralegal', 'nurse',\n",
       "       'accountant', 'photographer', 'teacher', 'painter', 'dietitian',\n",
       "       'psychologist', 'personal trainer'], dtype=object)"
      ]
     },
     "execution_count": 4,
     "metadata": {},
     "output_type": "execute_result"
    }
   ],
   "source": [
    "uk_jobs_val['title'].unique()"
   ]
  },
  {
   "attachments": {},
   "cell_type": "markdown",
   "metadata": {},
   "source": [
    "Pickle to Jason File"
   ]
  },
  {
   "cell_type": "code",
   "execution_count": 1,
   "metadata": {},
   "outputs": [],
   "source": [
    "import pickle\n",
    "import pandas as pd\n",
    "\n",
    "with open( '/home/deepak/RecSys2023/Dataset/new_bios.pkl', 'rb') as file:\n",
    "    dicts = pickle.load(file)\n",
    "bios = pd.DataFrame(dicts)\n",
    "bios = pd.DataFrame(dicts).reset_index()\n",
    "bios = bios.drop('index', axis=1)\n",
    "\n",
    "home_path = '/home/deepak/RecSys2023/Dataset/BM25/'\n",
    "\n",
    "bios['id'] = ['doc'+str(i+1) for i in range(len(bios))]\n",
    "\n",
    "#bios_true_gender = bios.drop(['raw','counter_bio'],axis='columns')\n",
    "#bios_true_gender.rename(columns = {'bio':'contents'}, inplace = True)\n",
    "#bios_true_gender.to_json(home_path + 'counterfactual_gender/bios.json', orient='records')\n",
    "\n",
    "\n",
    "bios_new_gender = bios.drop(['raw','bio'],axis='columns')\n",
    "bios_new_gender.rename(columns = {'counter_bio':'contents'}, inplace = True)\n",
    "bios_new_gender.to_json(home_path + 'original_gender/bios.json', orient='records')"
   ]
  },
  {
   "attachments": {},
   "cell_type": "markdown",
   "metadata": {},
   "source": [
    "GEt BM25 hits"
   ]
  },
  {
   "cell_type": "code",
   "execution_count": 2,
   "metadata": {},
   "outputs": [
    {
     "name": "stdout",
     "output_type": "stream",
     "text": [
      "WARNING: sun.reflect.Reflection.getCallerClass is not supported. This will impact performance.\n",
      "2023-06-14 19:59:59,267 INFO  [main] index.IndexCollection (IndexCollection.java:391) - Setting log level to INFO\n",
      "2023-06-14 19:59:59,268 INFO  [main] index.IndexCollection (IndexCollection.java:394) - Starting indexer...\n",
      "2023-06-14 19:59:59,268 INFO  [main] index.IndexCollection (IndexCollection.java:395) - ============ Loading Parameters ============\n",
      "2023-06-14 19:59:59,268 INFO  [main] index.IndexCollection (IndexCollection.java:396) - DocumentCollection path: /home/deepak/RecSys2023/Dataset/BM25/original_gender\n",
      "2023-06-14 19:59:59,268 INFO  [main] index.IndexCollection (IndexCollection.java:397) - CollectionClass: JsonCollection\n",
      "2023-06-14 19:59:59,268 INFO  [main] index.IndexCollection (IndexCollection.java:398) - Generator: DefaultLuceneDocumentGenerator\n",
      "2023-06-14 19:59:59,269 INFO  [main] index.IndexCollection (IndexCollection.java:399) - Threads: 1\n",
      "2023-06-14 19:59:59,269 INFO  [main] index.IndexCollection (IndexCollection.java:400) - Language: en\n",
      "2023-06-14 19:59:59,269 INFO  [main] index.IndexCollection (IndexCollection.java:401) - Stemmer: porter\n",
      "2023-06-14 19:59:59,269 INFO  [main] index.IndexCollection (IndexCollection.java:402) - Keep stopwords? false\n",
      "2023-06-14 19:59:59,269 INFO  [main] index.IndexCollection (IndexCollection.java:403) - Stopwords: null\n",
      "2023-06-14 19:59:59,269 INFO  [main] index.IndexCollection (IndexCollection.java:404) - Store positions? true\n",
      "2023-06-14 19:59:59,269 INFO  [main] index.IndexCollection (IndexCollection.java:405) - Store docvectors? true\n",
      "2023-06-14 19:59:59,270 INFO  [main] index.IndexCollection (IndexCollection.java:406) - Store document \"contents\" field? false\n",
      "2023-06-14 19:59:59,270 INFO  [main] index.IndexCollection (IndexCollection.java:407) - Store document \"raw\" field? true\n",
      "2023-06-14 19:59:59,270 INFO  [main] index.IndexCollection (IndexCollection.java:408) - Additional fields to index: []\n",
      "2023-06-14 19:59:59,270 INFO  [main] index.IndexCollection (IndexCollection.java:409) - Optimize (merge segments)? false\n",
      "2023-06-14 19:59:59,270 INFO  [main] index.IndexCollection (IndexCollection.java:410) - Whitelist: null\n",
      "2023-06-14 19:59:59,270 INFO  [main] index.IndexCollection (IndexCollection.java:411) - Pretokenized?: false\n",
      "2023-06-14 19:59:59,271 INFO  [main] index.IndexCollection (IndexCollection.java:412) - Index path: /home/deepak/RecSys2023/Dataset/BM25/original_gender/indexes\n",
      "2023-06-14 19:59:59,272 INFO  [main] index.IndexCollection (IndexCollection.java:450) - ============ Indexing Collection ============\n",
      "2023-06-14 19:59:59,463 INFO  [main] index.IndexCollection (IndexCollection.java:565) - Thread pool with 1 threads initialized.\n",
      "2023-06-14 19:59:59,463 INFO  [main] index.IndexCollection (IndexCollection.java:567) - Initializing collection in /home/deepak/RecSys2023/Dataset/BM25/original_gender\n",
      "2023-06-14 19:59:59,464 INFO  [main] index.IndexCollection (IndexCollection.java:576) - 1 file found\n",
      "2023-06-14 19:59:59,464 INFO  [main] index.IndexCollection (IndexCollection.java:577) - Starting to index...\n",
      "2023-06-14 19:59:59,879 DEBUG [pool-2-thread-1] index.IndexCollection$LocalIndexerThread (IndexCollection.java:356) - original_gender/bios.json: 2400 docs added.\n",
      "2023-06-14 20:00:00,062 INFO  [main] index.IndexCollection (IndexCollection.java:633) - Indexing Complete! 2,400 documents indexed\n",
      "2023-06-14 20:00:00,063 INFO  [main] index.IndexCollection (IndexCollection.java:634) - ============ Final Counter Values ============\n",
      "2023-06-14 20:00:00,063 INFO  [main] index.IndexCollection (IndexCollection.java:635) - indexed:            2,400\n",
      "2023-06-14 20:00:00,063 INFO  [main] index.IndexCollection (IndexCollection.java:636) - unindexable:            0\n",
      "2023-06-14 20:00:00,063 INFO  [main] index.IndexCollection (IndexCollection.java:637) - empty:                  0\n",
      "2023-06-14 20:00:00,063 INFO  [main] index.IndexCollection (IndexCollection.java:638) - skipped:                0\n",
      "2023-06-14 20:00:00,063 INFO  [main] index.IndexCollection (IndexCollection.java:639) - errors:                 0\n",
      "2023-06-14 20:00:00,066 INFO  [main] index.IndexCollection (IndexCollection.java:642) - Total 2,400 documents indexed in 00:00:00\n"
     ]
    }
   ],
   "source": [
    "!python -m pyserini.index.lucene \\\n",
    "  --collection JsonCollection \\\n",
    "  --input /home/deepak/RecSys2023/Dataset/BM25/original_gender \\\n",
    "  --index /home/deepak/RecSys2023/Dataset/BM25/original_gender/indexes \\\n",
    "  --generator DefaultLuceneDocumentGenerator \\\n",
    "  --threads 1 \\\n",
    "  --storePositions --storeDocvectors --storeRaw"
   ]
  },
  {
   "cell_type": "code",
   "execution_count": 3,
   "metadata": {},
   "outputs": [
    {
     "name": "stdout",
     "output_type": "stream",
     "text": [
      "Running /home/deepak/RecSys2023/Dataset/train.tsv topics, saving to /home/deepak/RecSys2023/Dataset/BM25/original_gender/train_hits.txt...\n",
      "100%|███████████████████████████████████████| 1459/1459 [00:41<00:00, 35.13it/s]\n"
     ]
    }
   ],
   "source": [
    "!python -m pyserini.search.lucene  --index /home/deepak/RecSys2023/Dataset/BM25/original_gender/indexes --topics /home/deepak/RecSys2023/Dataset/train.tsv --output /home/deepak/RecSys2023/Dataset/BM25/original_gender/train_hits.txt  --bm25"
   ]
  },
  {
   "cell_type": "code",
   "execution_count": 4,
   "metadata": {},
   "outputs": [
    {
     "name": "stdout",
     "output_type": "stream",
     "text": [
      "Running /home/deepak/RecSys2023/Dataset/val.tsv topics, saving to /home/deepak/RecSys2023/Dataset/BM25/original_gender/val_hits.txt...\n",
      "100%|█████████████████████████████████████████| 209/209 [00:06<00:00, 31.94it/s]\n"
     ]
    }
   ],
   "source": [
    "!python -m pyserini.search.lucene  --index /home/deepak/RecSys2023/Dataset/BM25/original_gender/indexes --topics /home/deepak/RecSys2023/Dataset/val.tsv --output /home/deepak/RecSys2023/Dataset/BM25/original_gender/val_hits.txt  --bm25"
   ]
  },
  {
   "cell_type": "code",
   "execution_count": 5,
   "metadata": {},
   "outputs": [
    {
     "name": "stdout",
     "output_type": "stream",
     "text": [
      "Running /home/deepak/RecSys2023/Dataset/test.tsv topics, saving to /home/deepak/RecSys2023/Dataset/BM25/original_gender/test_hits.txt...\n",
      "100%|█████████████████████████████████████████| 417/417 [00:12<00:00, 33.74it/s]\n"
     ]
    }
   ],
   "source": [
    "!python -m pyserini.search.lucene  --index /home/deepak/RecSys2023/Dataset/BM25/original_gender/indexes --topics /home/deepak/RecSys2023/Dataset/test.tsv --output /home/deepak/RecSys2023/Dataset/BM25/original_gender/test_hits.txt  --bm25"
   ]
  },
  {
   "attachments": {},
   "cell_type": "markdown",
   "metadata": {},
   "source": [
    "Balance the candidate"
   ]
  },
  {
   "cell_type": "code",
   "execution_count": 1,
   "metadata": {},
   "outputs": [
    {
     "data": {
      "text/html": [
       "<div>\n",
       "<style scoped>\n",
       "    .dataframe tbody tr th:only-of-type {\n",
       "        vertical-align: middle;\n",
       "    }\n",
       "\n",
       "    .dataframe tbody tr th {\n",
       "        vertical-align: top;\n",
       "    }\n",
       "\n",
       "    .dataframe thead th {\n",
       "        text-align: right;\n",
       "    }\n",
       "</style>\n",
       "<table border=\"1\" class=\"dataframe\">\n",
       "  <thead>\n",
       "    <tr style=\"text-align: right;\">\n",
       "      <th></th>\n",
       "      <th>raw</th>\n",
       "      <th>raw_title</th>\n",
       "      <th>gender</th>\n",
       "      <th>bio</th>\n",
       "      <th>counter_bio</th>\n",
       "    </tr>\n",
       "  </thead>\n",
       "  <tbody>\n",
       "    <tr>\n",
       "      <th>0</th>\n",
       "      <td>* Nora Fisher Onar is an _ of international re...</td>\n",
       "      <td>assistant professor</td>\n",
       "      <td>F</td>\n",
       "      <td>* Alice is an _ of international relations at ...</td>\n",
       "      <td>* Bob is an _ of international relations at Ba...</td>\n",
       "    </tr>\n",
       "    <tr>\n",
       "      <th>1</th>\n",
       "      <td>Dr. Shawn Zelig Aster is an _ of Bible at Yesh...</td>\n",
       "      <td>assistant professor</td>\n",
       "      <td>M</td>\n",
       "      <td>Dr. Bob is an _ of Bible at Yeshiva University...</td>\n",
       "      <td>Dr. Alice is an _ of Bible at Yeshiva Universi...</td>\n",
       "    </tr>\n",
       "    <tr>\n",
       "      <th>2</th>\n",
       "      <td>Brittany McCandless is a _ with a print and br...</td>\n",
       "      <td>journalist</td>\n",
       "      <td>F</td>\n",
       "      <td>Alice is a _ with a print and broadcast backgr...</td>\n",
       "      <td>Bob is a _ with a print and broadcast backgrou...</td>\n",
       "    </tr>\n",
       "    <tr>\n",
       "      <th>3</th>\n",
       "      <td>Arturo Toledo is an Architect. He runs a bouti...</td>\n",
       "      <td>architect</td>\n",
       "      <td>M</td>\n",
       "      <td>Bob is an Architect. He runs a boutique design...</td>\n",
       "      <td>Alice is an Architect. she runs a boutique des...</td>\n",
       "    </tr>\n",
       "    <tr>\n",
       "      <th>4</th>\n",
       "      <td>Jan De Clercq is a solution _ working for the ...</td>\n",
       "      <td>architect</td>\n",
       "      <td>M</td>\n",
       "      <td>Bob is a solution _ working for the worldwide ...</td>\n",
       "      <td>Alice is a solution _ working for the worldwid...</td>\n",
       "    </tr>\n",
       "    <tr>\n",
       "      <th>...</th>\n",
       "      <td>...</td>\n",
       "      <td>...</td>\n",
       "      <td>...</td>\n",
       "      <td>...</td>\n",
       "      <td>...</td>\n",
       "    </tr>\n",
       "    <tr>\n",
       "      <th>320033</th>\n",
       "      <td>Fernando Quesada is an Attorney at-law admitte...</td>\n",
       "      <td>attorney</td>\n",
       "      <td>M</td>\n",
       "      <td>Bob is an Attorney at-law admitted in Mexico i...</td>\n",
       "      <td>Alice is an Attorney at-law admitted in Mexico...</td>\n",
       "    </tr>\n",
       "    <tr>\n",
       "      <th>320034</th>\n",
       "      <td>Jeffrey Kucik is an _ in the School of Governm...</td>\n",
       "      <td>assistant professor</td>\n",
       "      <td>M</td>\n",
       "      <td>Bob is an _ in the School of Government and Pu...</td>\n",
       "      <td>Alice is an _ in the School of Government and ...</td>\n",
       "    </tr>\n",
       "    <tr>\n",
       "      <th>320035</th>\n",
       "      <td>Leslie E. Seawright is an Assistant Professor ...</td>\n",
       "      <td>assistant professor</td>\n",
       "      <td>F</td>\n",
       "      <td>Alice is an Assistant Professor in the Liberal...</td>\n",
       "      <td>Bob is an Assistant Professor in the Liberal A...</td>\n",
       "    </tr>\n",
       "    <tr>\n",
       "      <th>320036</th>\n",
       "      <td>Paul Bird is a Chartered Accountant with over ...</td>\n",
       "      <td>accountant</td>\n",
       "      <td>M</td>\n",
       "      <td>Bob is a Chartered Accountant with over 19 yea...</td>\n",
       "      <td>Alice is a Chartered Accountant with over 19 y...</td>\n",
       "    </tr>\n",
       "    <tr>\n",
       "      <th>320037</th>\n",
       "      <td>Jesse Cunha is an Associate Professor in the G...</td>\n",
       "      <td>associate professor</td>\n",
       "      <td>M</td>\n",
       "      <td>Bob is an Associate Professor in the Graduate ...</td>\n",
       "      <td>Alice is an Associate Professor in the Graduat...</td>\n",
       "    </tr>\n",
       "  </tbody>\n",
       "</table>\n",
       "<p>320038 rows × 5 columns</p>\n",
       "</div>"
      ],
      "text/plain": [
       "                                                      raw  \\\n",
       "0       * Nora Fisher Onar is an _ of international re...   \n",
       "1       Dr. Shawn Zelig Aster is an _ of Bible at Yesh...   \n",
       "2       Brittany McCandless is a _ with a print and br...   \n",
       "3       Arturo Toledo is an Architect. He runs a bouti...   \n",
       "4       Jan De Clercq is a solution _ working for the ...   \n",
       "...                                                   ...   \n",
       "320033  Fernando Quesada is an Attorney at-law admitte...   \n",
       "320034  Jeffrey Kucik is an _ in the School of Governm...   \n",
       "320035  Leslie E. Seawright is an Assistant Professor ...   \n",
       "320036  Paul Bird is a Chartered Accountant with over ...   \n",
       "320037  Jesse Cunha is an Associate Professor in the G...   \n",
       "\n",
       "                  raw_title gender  \\\n",
       "0       assistant professor      F   \n",
       "1       assistant professor      M   \n",
       "2                journalist      F   \n",
       "3                 architect      M   \n",
       "4                 architect      M   \n",
       "...                     ...    ...   \n",
       "320033             attorney      M   \n",
       "320034  assistant professor      M   \n",
       "320035  assistant professor      F   \n",
       "320036           accountant      M   \n",
       "320037  associate professor      M   \n",
       "\n",
       "                                                      bio  \\\n",
       "0       * Alice is an _ of international relations at ...   \n",
       "1       Dr. Bob is an _ of Bible at Yeshiva University...   \n",
       "2       Alice is a _ with a print and broadcast backgr...   \n",
       "3       Bob is an Architect. He runs a boutique design...   \n",
       "4       Bob is a solution _ working for the worldwide ...   \n",
       "...                                                   ...   \n",
       "320033  Bob is an Attorney at-law admitted in Mexico i...   \n",
       "320034  Bob is an _ in the School of Government and Pu...   \n",
       "320035  Alice is an Assistant Professor in the Liberal...   \n",
       "320036  Bob is a Chartered Accountant with over 19 yea...   \n",
       "320037  Bob is an Associate Professor in the Graduate ...   \n",
       "\n",
       "                                              counter_bio  \n",
       "0       * Bob is an _ of international relations at Ba...  \n",
       "1       Dr. Alice is an _ of Bible at Yeshiva Universi...  \n",
       "2       Bob is a _ with a print and broadcast backgrou...  \n",
       "3       Alice is an Architect. she runs a boutique des...  \n",
       "4       Alice is a solution _ working for the worldwid...  \n",
       "...                                                   ...  \n",
       "320033  Alice is an Attorney at-law admitted in Mexico...  \n",
       "320034  Alice is an _ in the School of Government and ...  \n",
       "320035  Bob is an Assistant Professor in the Liberal A...  \n",
       "320036  Alice is a Chartered Accountant with over 19 y...  \n",
       "320037  Alice is an Associate Professor in the Graduat...  \n",
       "\n",
       "[320038 rows x 5 columns]"
      ]
     },
     "execution_count": 1,
     "metadata": {},
     "output_type": "execute_result"
    }
   ],
   "source": [
    "import pickle\n",
    "import pandas as pd\n",
    "with open( '/home/deepak/RecSys2023/Dataset/new_bios.pkl', 'rb') as file:\n",
    "    dicts = pickle.load(file)\n",
    "bios = pd.DataFrame(dicts).reset_index()\n",
    "bios = bios.drop('index', axis=1)\n",
    "bios"
   ]
  },
  {
   "cell_type": "code",
   "execution_count": 8,
   "metadata": {},
   "outputs": [
    {
     "name": "stdout",
     "output_type": "stream",
     "text": [
      "assistant professor\n",
      "journalist\n",
      "architect\n",
      "photographer\n",
      "psychologist\n",
      "teacher\n",
      "nurse\n",
      "associate professor\n",
      "attorney\n",
      "software engineer\n",
      "painter\n",
      "physician\n",
      "personal trainer\n",
      "surgeon\n",
      "dietitian\n",
      "dentist\n",
      "model\n",
      "psychotherapist\n",
      "yoga instructor\n",
      "interior designer\n",
      "senior software engineer\n",
      "accountant\n",
      "nutritionist\n",
      "paralegal\n"
     ]
    }
   ],
   "source": [
    "i=0\n",
    "for job in bios['raw_title'].unique():\n",
    "    print(job)\n",
    "    if i==0:\n",
    "        new_bios = pd.concat([bios[(bios['gender']=='F') & (bios['raw_title']==job)].sample(n=50,random_state=1),bios[(bios['gender']=='M') & (bios['raw_title']==job)].sample(n=50,random_state=1)])\n",
    "    else:\n",
    "        new_bios = pd.concat([new_bios, pd.concat([bios[(bios['gender']=='F') & (bios['raw_title']==job)].sample(n=50,random_state=1),bios[(bios['gender']=='M') & (bios['raw_title']==job)].sample(n=50,random_state=1)])])\n",
    "    i=i+1\n"
   ]
  },
  {
   "cell_type": "code",
   "execution_count": 11,
   "metadata": {},
   "outputs": [
    {
     "data": {
      "text/html": [
       "<div>\n",
       "<style scoped>\n",
       "    .dataframe tbody tr th:only-of-type {\n",
       "        vertical-align: middle;\n",
       "    }\n",
       "\n",
       "    .dataframe tbody tr th {\n",
       "        vertical-align: top;\n",
       "    }\n",
       "\n",
       "    .dataframe thead th {\n",
       "        text-align: right;\n",
       "    }\n",
       "</style>\n",
       "<table border=\"1\" class=\"dataframe\">\n",
       "  <thead>\n",
       "    <tr style=\"text-align: right;\">\n",
       "      <th></th>\n",
       "      <th>raw</th>\n",
       "      <th>raw_title</th>\n",
       "      <th>gender</th>\n",
       "      <th>bio</th>\n",
       "      <th>counter_bio</th>\n",
       "    </tr>\n",
       "  </thead>\n",
       "  <tbody>\n",
       "    <tr>\n",
       "      <th>185178</th>\n",
       "      <td>Dr. Lisa Arter is an Assistant Professor of En...</td>\n",
       "      <td>assistant professor</td>\n",
       "      <td>F</td>\n",
       "      <td>Dr. Alice is an Assistant Professor of English...</td>\n",
       "      <td>Dr. Bob is an Assistant Professor of English a...</td>\n",
       "    </tr>\n",
       "    <tr>\n",
       "      <th>166642</th>\n",
       "      <td>Christopher Filson, MD, MS, is an Assistant Pr...</td>\n",
       "      <td>assistant professor</td>\n",
       "      <td>F</td>\n",
       "      <td>Alice, MD, MS, is an Assistant Professor of Ur...</td>\n",
       "      <td>Bob, MD, MS, is an Assistant Professor of Urol...</td>\n",
       "    </tr>\n",
       "    <tr>\n",
       "      <th>123814</th>\n",
       "      <td>Dr. Mary A. Fox is an _ of health policy and m...</td>\n",
       "      <td>assistant professor</td>\n",
       "      <td>F</td>\n",
       "      <td>Dr. Alice is Alice _ of health policy and mana...</td>\n",
       "      <td>Dr. Bob is Bob _ of health policy and manageme...</td>\n",
       "    </tr>\n",
       "    <tr>\n",
       "      <th>246604</th>\n",
       "      <td>Dr. Qu Li is an _ at the Division of Psycholog...</td>\n",
       "      <td>assistant professor</td>\n",
       "      <td>F</td>\n",
       "      <td>Dr. Alice is an _ at the Division of Psycholog...</td>\n",
       "      <td>Dr. Bob is an _ at the Division of Psychology,...</td>\n",
       "    </tr>\n",
       "    <tr>\n",
       "      <th>286377</th>\n",
       "      <td>Julia Christensen is an _ of geography and pla...</td>\n",
       "      <td>assistant professor</td>\n",
       "      <td>F</td>\n",
       "      <td>Alice is an _ of geography and planning at Ros...</td>\n",
       "      <td>Bob is an _ of geography and planning at Roski...</td>\n",
       "    </tr>\n",
       "    <tr>\n",
       "      <th>...</th>\n",
       "      <td>...</td>\n",
       "      <td>...</td>\n",
       "      <td>...</td>\n",
       "      <td>...</td>\n",
       "      <td>...</td>\n",
       "    </tr>\n",
       "    <tr>\n",
       "      <th>157537</th>\n",
       "      <td>Marty Murphy is a _ with the Firm. Mr. Murphy ...</td>\n",
       "      <td>paralegal</td>\n",
       "      <td>M</td>\n",
       "      <td>Bob is a _ with the Firm. Mr. Bob graduated fr...</td>\n",
       "      <td>Alice is a _ with the Firm. Mr. Alice graduate...</td>\n",
       "    </tr>\n",
       "    <tr>\n",
       "      <th>96752</th>\n",
       "      <td>David Cutler is a _ with the firm's Real Estat...</td>\n",
       "      <td>paralegal</td>\n",
       "      <td>M</td>\n",
       "      <td>Bob is a _ with the firm's Real Estate group. ...</td>\n",
       "      <td>Alice is a _ with the firm's Real Estate group...</td>\n",
       "    </tr>\n",
       "    <tr>\n",
       "      <th>34333</th>\n",
       "      <td>Isaac Mintzer is a _ in Orlando who has worked...</td>\n",
       "      <td>paralegal</td>\n",
       "      <td>M</td>\n",
       "      <td>Bob is a _ in Orlando who has worked with many...</td>\n",
       "      <td>Alice is a _ in Orlando who has worked with ma...</td>\n",
       "    </tr>\n",
       "    <tr>\n",
       "      <th>79634</th>\n",
       "      <td>Ashley Meeks is a criminal _ that lives, and w...</td>\n",
       "      <td>paralegal</td>\n",
       "      <td>M</td>\n",
       "      <td>Bob is a criminal _ that lives, and works in O...</td>\n",
       "      <td>Alice is a criminal _ that lives, and works in...</td>\n",
       "    </tr>\n",
       "    <tr>\n",
       "      <th>2221</th>\n",
       "      <td>Luke Gittos is a Paralegal at Hughmans Solicit...</td>\n",
       "      <td>paralegal</td>\n",
       "      <td>M</td>\n",
       "      <td>Bob is a Paralegal at Hughmans Solicitors and ...</td>\n",
       "      <td>Alice is a Paralegal at Hughmans Solicitors an...</td>\n",
       "    </tr>\n",
       "  </tbody>\n",
       "</table>\n",
       "<p>2400 rows × 5 columns</p>\n",
       "</div>"
      ],
      "text/plain": [
       "                                                      raw  \\\n",
       "185178  Dr. Lisa Arter is an Assistant Professor of En...   \n",
       "166642  Christopher Filson, MD, MS, is an Assistant Pr...   \n",
       "123814  Dr. Mary A. Fox is an _ of health policy and m...   \n",
       "246604  Dr. Qu Li is an _ at the Division of Psycholog...   \n",
       "286377  Julia Christensen is an _ of geography and pla...   \n",
       "...                                                   ...   \n",
       "157537  Marty Murphy is a _ with the Firm. Mr. Murphy ...   \n",
       "96752   David Cutler is a _ with the firm's Real Estat...   \n",
       "34333   Isaac Mintzer is a _ in Orlando who has worked...   \n",
       "79634   Ashley Meeks is a criminal _ that lives, and w...   \n",
       "2221    Luke Gittos is a Paralegal at Hughmans Solicit...   \n",
       "\n",
       "                  raw_title gender  \\\n",
       "185178  assistant professor      F   \n",
       "166642  assistant professor      F   \n",
       "123814  assistant professor      F   \n",
       "246604  assistant professor      F   \n",
       "286377  assistant professor      F   \n",
       "...                     ...    ...   \n",
       "157537            paralegal      M   \n",
       "96752             paralegal      M   \n",
       "34333             paralegal      M   \n",
       "79634             paralegal      M   \n",
       "2221              paralegal      M   \n",
       "\n",
       "                                                      bio  \\\n",
       "185178  Dr. Alice is an Assistant Professor of English...   \n",
       "166642  Alice, MD, MS, is an Assistant Professor of Ur...   \n",
       "123814  Dr. Alice is Alice _ of health policy and mana...   \n",
       "246604  Dr. Alice is an _ at the Division of Psycholog...   \n",
       "286377  Alice is an _ of geography and planning at Ros...   \n",
       "...                                                   ...   \n",
       "157537  Bob is a _ with the Firm. Mr. Bob graduated fr...   \n",
       "96752   Bob is a _ with the firm's Real Estate group. ...   \n",
       "34333   Bob is a _ in Orlando who has worked with many...   \n",
       "79634   Bob is a criminal _ that lives, and works in O...   \n",
       "2221    Bob is a Paralegal at Hughmans Solicitors and ...   \n",
       "\n",
       "                                              counter_bio  \n",
       "185178  Dr. Bob is an Assistant Professor of English a...  \n",
       "166642  Bob, MD, MS, is an Assistant Professor of Urol...  \n",
       "123814  Dr. Bob is Bob _ of health policy and manageme...  \n",
       "246604  Dr. Bob is an _ at the Division of Psychology,...  \n",
       "286377  Bob is an _ of geography and planning at Roski...  \n",
       "...                                                   ...  \n",
       "157537  Alice is a _ with the Firm. Mr. Alice graduate...  \n",
       "96752   Alice is a _ with the firm's Real Estate group...  \n",
       "34333   Alice is a _ in Orlando who has worked with ma...  \n",
       "79634   Alice is a criminal _ that lives, and works in...  \n",
       "2221    Alice is a Paralegal at Hughmans Solicitors an...  \n",
       "\n",
       "[2400 rows x 5 columns]"
      ]
     },
     "execution_count": 11,
     "metadata": {},
     "output_type": "execute_result"
    }
   ],
   "source": [
    "new_bios"
   ]
  },
  {
   "cell_type": "code",
   "execution_count": 12,
   "metadata": {},
   "outputs": [],
   "source": [
    "new_bios = new_bios.reset_index()\n",
    "new_bios = new_bios.drop('index', axis=1)\n",
    "\n",
    "with open('/home/deepak/RecSys2023/Dataset/new_bios.pkl', 'wb') as f:\n",
    "    pickle.dump(new_bios, f)"
   ]
  }
 ],
 "metadata": {
  "kernelspec": {
   "display_name": "Python 3.6.9 ('adapterfusion': conda)",
   "language": "python",
   "name": "python3"
  },
  "language_info": {
   "codemirror_mode": {
    "name": "ipython",
    "version": 3
   },
   "file_extension": ".py",
   "mimetype": "text/x-python",
   "name": "python",
   "nbconvert_exporter": "python",
   "pygments_lexer": "ipython3",
   "version": "3.10.4"
  },
  "orig_nbformat": 4,
  "vscode": {
   "interpreter": {
    "hash": "54416a898087e692e51f3d654c363a8a05558aed57ab1c18f3e4f84290aeecd3"
   }
  }
 },
 "nbformat": 4,
 "nbformat_minor": 2
}
